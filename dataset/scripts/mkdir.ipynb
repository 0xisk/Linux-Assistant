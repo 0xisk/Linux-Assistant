{
 "cells": [
  {
   "cell_type": "code",
   "execution_count": 3,
   "metadata": {},
   "outputs": [],
   "source": [
    "desires = ['i want to', 'i need to', 'i wish to', 'i demand to', 'i long to']"
   ]
  },
  {
   "cell_type": "code",
   "execution_count": 1,
   "metadata": {},
   "outputs": [],
   "source": [
    "create_synonyms = ['create', 'make', 'build', 'generate', 'conceive', 'design', 'establish', 'form', 'initiate', 'set up', 'invent']"
   ]
  },
  {
   "cell_type": "code",
   "execution_count": 10,
   "metadata": {},
   "outputs": [],
   "source": [
    "sentences = ['folder', 'directory', 'new folder', 'new directory',\n",
    "             'a folder', 'a directory', 'a new folder', 'a new directory',\n",
    "             'many folders', 'many directories', 'multiple folders', 'multiple directories',\n",
    "             'different folders', 'different directories', 'various folders', 'various directories',\n",
    "             'multi folders', 'multi directories', 'several folders', 'several directories',\n",
    "             'mixed folders', 'mixed directories', 'collective folders', 'collective directories',\n",
    "             'brand new folder', 'brand new directory',\n",
    "             'brand new folders', 'brand new directories'\n",
    "\n",
    "            ]"
   ]
  },
  {
   "cell_type": "code",
   "execution_count": 15,
   "metadata": {
    "scrolled": true
   },
   "outputs": [
    {
     "name": "stdout",
     "output_type": "stream",
     "text": [
      "1540\n"
     ]
    }
   ],
   "source": [
    "count = 0\n",
    "for z in desires:\n",
    "    for x in create_synonyms:\n",
    "        for y in sentences:\n",
    "            #print(z + ' ' + x + ' ' + y + ', mkdir')\n",
    "            count = count + 1\n",
    "print(count)\n",
    "        "
   ]
  },
  {
   "cell_type": "code",
   "execution_count": 16,
   "metadata": {
    "scrolled": true
   },
   "outputs": [
    {
     "name": "stdout",
     "output_type": "stream",
     "text": [
      "308\n"
     ]
    }
   ],
   "source": [
    "count = 0\n",
    "for x in create_synonyms:\n",
    "    for y in sentences:\n",
    "        #print(x + ' ' + y + ', mkdir')\n",
    "        count = count + 1\n",
    "print(count)"
   ]
  }
 ],
 "metadata": {
  "kernelspec": {
   "display_name": "Python 3",
   "language": "python",
   "name": "python3"
  },
  "language_info": {
   "codemirror_mode": {
    "name": "ipython",
    "version": 3
   },
   "file_extension": ".py",
   "mimetype": "text/x-python",
   "name": "python",
   "nbconvert_exporter": "python",
   "pygments_lexer": "ipython3",
   "version": "3.6.7"
  }
 },
 "nbformat": 4,
 "nbformat_minor": 2
}
